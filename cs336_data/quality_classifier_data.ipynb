{
  "cells": [
    {
      "cell_type": "code",
      "execution_count": 9,
      "metadata": {},
      "outputs": [],
      "source": [
        "import random"
      ]
    },
    {
      "cell_type": "code",
      "execution_count": 6,
      "metadata": {},
      "outputs": [],
      "source": [
        "with open(\n",
        "    \"/home/liyang2029/cs336_2025/assignment4-data/cs336_data/enwiki-20240420-extracted_urls.txt\"\n",
        ") as f:\n",
        "    urls = [url.strip() for url in f.readlines()]"
      ]
    },
    {
      "cell_type": "code",
      "execution_count": 10,
      "metadata": {},
      "outputs": [],
      "source": [
        "sampled_urls = random.sample(urls, 20_000)\n",
        "with open(\n",
        "    \"/home/liyang2029/cs336_2025/assignment4-data/cs336_data/subsampled_positive_urls.txt\",\n",
        "    \"w\",\n",
        ") as f:\n",
        "    for url in sampled_urls:\n",
        "        f.write(url.strip() + \"\\n\")"
      ]
    },
    {
      "cell_type": "code",
      "execution_count": null,
      "metadata": {},
      "outputs": [],
      "source": []
    }
  ],
  "metadata": {
    "orig_nbformat": 4
  },
  "nbformat": 4,
  "nbformat_minor": 2
}
